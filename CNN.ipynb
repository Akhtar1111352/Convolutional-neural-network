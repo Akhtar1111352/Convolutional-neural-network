{
  "nbformat": 4,
  "nbformat_minor": 0,
  "metadata": {
    "colab": {
      "provenance": [],
      "authorship_tag": "ABX9TyO1gI78D7IeI1ZZ/SSwwqwT",
      "include_colab_link": true
    },
    "kernelspec": {
      "name": "python3",
      "display_name": "Python 3"
    },
    "language_info": {
      "name": "python"
    },
    "accelerator": "GPU"
  },
  "cells": [
    {
      "cell_type": "markdown",
      "metadata": {
        "id": "view-in-github",
        "colab_type": "text"
      },
      "source": [
        "<a href=\"https://colab.research.google.com/github/Akhtar1111352/Akhtar1111352/blob/main/CNN.ipynb\" target=\"_parent\"><img src=\"https://colab.research.google.com/assets/colab-badge.svg\" alt=\"Open In Colab\"/></a>"
      ]
    },
    {
      "cell_type": "code",
      "execution_count": 20,
      "metadata": {
        "id": "IKif3o9Eh7EK"
      },
      "outputs": [],
      "source": [
        "!mkdir -p ~/.kaggle\n",
        "!cp kaggle.json ~/.kaggle/"
      ]
    },
    {
      "cell_type": "code",
      "source": [
        "!kaggle datasets download -d salader/dogs-vs-cats"
      ],
      "metadata": {
        "colab": {
          "base_uri": "https://localhost:8080/"
        },
        "id": "_ubVedxPiHcH",
        "outputId": "208bbeac-6a4d-4bed-d3e8-08db240f5fb2"
      },
      "execution_count": 21,
      "outputs": [
        {
          "output_type": "stream",
          "name": "stdout",
          "text": [
            "Warning: Your Kaggle API key is readable by other users on this system! To fix this, you can run 'chmod 600 /root/.kaggle/kaggle.json'\n",
            "Downloading dogs-vs-cats.zip to /content\n",
            "100% 1.06G/1.06G [00:24<00:00, 68.0MB/s]\n",
            "100% 1.06G/1.06G [00:24<00:00, 46.1MB/s]\n"
          ]
        }
      ]
    },
    {
      "cell_type": "code",
      "source": [
        "import zipfile\n",
        "zip_ref=zipfile.ZipFile('/content/dogs-vs-cats.zip','r')\n",
        "zip_ref.extractall('/content')\n",
        "zip_ref.close()"
      ],
      "metadata": {
        "id": "dCQ2DA88wpRX"
      },
      "execution_count": 22,
      "outputs": []
    },
    {
      "cell_type": "code",
      "source": [
        "import tensorflow as tf\n",
        "from tensorflow import keras\n",
        "from keras import Sequential \n",
        "from keras.layers import Dense,Conv2D,MaxPooling2D,Flatten"
      ],
      "metadata": {
        "id": "jfCwBWgQww8J"
      },
      "execution_count": 23,
      "outputs": []
    },
    {
      "cell_type": "code",
      "source": [
        "train_dataset=keras.utils.image_dataset_from_directory(\n",
        "    directory='/content/train',\n",
        "    labels='inferred',\n",
        "    label_mode='int',\n",
        "    batch_size=32,\n",
        "    image_size=(256,256)\n",
        ")\n",
        "validation_ds=keras.utils.image_dataset_from_directory(\n",
        "    directory='/content/test',\n",
        "    labels='inferred',\n",
        "    label_mode='int',\n",
        "    batch_size=32,\n",
        "    image_size=(256,256)\n",
        ")"
      ],
      "metadata": {
        "colab": {
          "base_uri": "https://localhost:8080/"
        },
        "id": "xKYHlvNk1EHD",
        "outputId": "473ac5be-fce9-40e1-a1e6-1052ed45c328"
      },
      "execution_count": 24,
      "outputs": [
        {
          "output_type": "stream",
          "name": "stdout",
          "text": [
            "Found 20000 files belonging to 2 classes.\n",
            "Found 5000 files belonging to 2 classes.\n"
          ]
        }
      ]
    },
    {
      "cell_type": "code",
      "source": [
        "def process(image,label):\n",
        "  image= tf.cast(image/255.,tf.float32)\n",
        "  return image,label\n",
        "train_dataset=train_dataset.map(process)\n",
        "validation_ds=validation_ds.map(process)"
      ],
      "metadata": {
        "id": "lgb3_IIy1KWq"
      },
      "execution_count": 25,
      "outputs": []
    },
    {
      "cell_type": "code",
      "source": [
        "#CREATING CNN mODEL\n",
        "model=Sequential()\n",
        "\n",
        "model.add(Conv2D(32,kernel_size=(3,3),padding='valid',activation='relu'))\n",
        "model.add(MaxPooling2D(pool_size=(2,2),strides=2,padding='valid'))\n",
        "model.add(Conv2D(64,kernel_size=(3,3),padding='valid',activation='relu',input_shape=(256,256,3)))\n",
        "model.add(MaxPooling2D(pool_size=(2,2),strides=2,padding='valid'))\n",
        "model.add(Conv2D(128,kernel_size=(3,3),padding='valid',activation='relu',input_shape=(256,256,3)))\n",
        "\n",
        "model.add(MaxPooling2D(pool_size=(2,2),strides=2,padding='valid'))\n",
        "model.add(Flatten())\n",
        "model.add(Dense(128,activation='relu'))\n",
        "model.add(Dense(64,activation='relu'))\n",
        "model.add(Dense(1,activation='sigmoid'))\n"
      ],
      "metadata": {
        "id": "WwVJXlP11RKH"
      },
      "execution_count": 26,
      "outputs": []
    },
    {
      "cell_type": "code",
      "source": [
        "b=model.compile(optimizer='adam',loss='binary_crossentropy',metrics=['accuracy'])\n"
      ],
      "metadata": {
        "id": "01AgLRGD1b4r"
      },
      "execution_count": 27,
      "outputs": []
    },
    {
      "cell_type": "code",
      "source": [
        "history=model.fit(train_dataset,epochs=10,validation_data=validation_ds)\n"
      ],
      "metadata": {
        "colab": {
          "base_uri": "https://localhost:8080/"
        },
        "id": "5Agyfw611f-C",
        "outputId": "7ea44b84-500a-4103-860f-6d07ecb188a6"
      },
      "execution_count": 28,
      "outputs": [
        {
          "output_type": "stream",
          "name": "stdout",
          "text": [
            "Epoch 1/10\n",
            "625/625 [==============================] - 68s 90ms/step - loss: 0.6021 - accuracy: 0.6572 - val_loss: 0.5185 - val_accuracy: 0.7470\n",
            "Epoch 2/10\n",
            "625/625 [==============================] - 57s 91ms/step - loss: 0.4524 - accuracy: 0.7836 - val_loss: 0.4505 - val_accuracy: 0.7964\n",
            "Epoch 3/10\n",
            "625/625 [==============================] - 57s 90ms/step - loss: 0.3349 - accuracy: 0.8534 - val_loss: 0.5395 - val_accuracy: 0.7912\n",
            "Epoch 4/10\n",
            "625/625 [==============================] - 57s 90ms/step - loss: 0.1962 - accuracy: 0.9194 - val_loss: 0.9033 - val_accuracy: 0.7806\n",
            "Epoch 5/10\n",
            "625/625 [==============================] - 57s 91ms/step - loss: 0.1118 - accuracy: 0.9572 - val_loss: 0.9906 - val_accuracy: 0.7850\n",
            "Epoch 6/10\n",
            "625/625 [==============================] - 57s 90ms/step - loss: 0.0706 - accuracy: 0.9739 - val_loss: 1.1557 - val_accuracy: 0.8010\n",
            "Epoch 7/10\n",
            "625/625 [==============================] - 57s 91ms/step - loss: 0.0601 - accuracy: 0.9797 - val_loss: 1.1620 - val_accuracy: 0.7984\n",
            "Epoch 8/10\n",
            "625/625 [==============================] - 58s 92ms/step - loss: 0.0462 - accuracy: 0.9850 - val_loss: 1.2042 - val_accuracy: 0.7858\n",
            "Epoch 9/10\n",
            "625/625 [==============================] - 57s 91ms/step - loss: 0.0370 - accuracy: 0.9879 - val_loss: 1.1956 - val_accuracy: 0.7856\n",
            "Epoch 10/10\n",
            "625/625 [==============================] - 57s 90ms/step - loss: 0.0263 - accuracy: 0.9923 - val_loss: 1.3967 - val_accuracy: 0.7922\n"
          ]
        }
      ]
    },
    {
      "cell_type": "code",
      "source": [],
      "metadata": {
        "id": "DwtaJi1I2JKs"
      },
      "execution_count": null,
      "outputs": []
    }
  ]
}